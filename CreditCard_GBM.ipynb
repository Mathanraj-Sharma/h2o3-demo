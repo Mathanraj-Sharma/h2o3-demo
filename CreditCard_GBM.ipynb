{
 "cells": [
  {
   "cell_type": "code",
   "execution_count": null,
   "id": "ab591e57",
   "metadata": {},
   "outputs": [],
   "source": [
    "import h2o\n",
    "from h2o.estimators import H2OGradientBoostingEstimator"
   ]
  },
  {
   "cell_type": "code",
   "execution_count": null,
   "id": "a08ea031",
   "metadata": {},
   "outputs": [],
   "source": [
    "# initialize h2o cluster\n",
    "h2o.init()"
   ]
  },
  {
   "cell_type": "code",
   "execution_count": null,
   "id": "11502185",
   "metadata": {},
   "outputs": [],
   "source": [
    "# load data from external sources\n",
    "data = h2o.import_file(\"https://s3.amazonaws.com/data.h2o.ai/Training/CreditCard.csv\")"
   ]
  },
  {
   "cell_type": "code",
   "execution_count": null,
   "id": "8e6ab17f",
   "metadata": {},
   "outputs": [],
   "source": [
    "data.head()"
   ]
  },
  {
   "cell_type": "code",
   "execution_count": null,
   "id": "680bb0af",
   "metadata": {},
   "outputs": [],
   "source": [
    "data.columns"
   ]
  },
  {
   "cell_type": "code",
   "execution_count": null,
   "id": "6d41c394",
   "metadata": {},
   "outputs": [],
   "source": [
    "# check shape of data\n",
    "data.shape"
   ]
  },
  {
   "cell_type": "code",
   "execution_count": null,
   "id": "7017bd35",
   "metadata": {},
   "outputs": [],
   "source": [
    "# drop id column & set target variable as a catogarical variable\n",
    "data = data.drop([\"ID\"])\n",
    "data[\"Default\"] = data[\"Default\"].asfactor()"
   ]
  },
  {
   "cell_type": "code",
   "execution_count": null,
   "id": "242c1935",
   "metadata": {},
   "outputs": [],
   "source": [
    "# split data into train, test & valid\n",
    "train, test, valid = data.split_frame([.7,.2])"
   ]
  },
  {
   "cell_type": "code",
   "execution_count": null,
   "id": "16b646d6",
   "metadata": {},
   "outputs": [],
   "source": [
    "# Question 1: Check shape of train, test and valid"
   ]
  },
  {
   "cell_type": "code",
   "execution_count": null,
   "id": "e1a244b3",
   "metadata": {},
   "outputs": [],
   "source": [
    "# get feature names\n",
    "x = data.columns.remove(\"Default\")"
   ]
  },
  {
   "cell_type": "code",
   "execution_count": null,
   "id": "bc50b190",
   "metadata": {},
   "outputs": [],
   "source": [
    "# create & train the model\n",
    "gbm = H2OGradientBoostingEstimator(model_id=\"gbm_model\", seed=1234)\n",
    "gbm.train(x=x ,y=\"Default\", training_frame=train, validation_frame=valid)"
   ]
  },
  {
   "cell_type": "code",
   "execution_count": null,
   "id": "924abb15",
   "metadata": {},
   "outputs": [],
   "source": [
    "# get variable importance plot\n",
    "%matplotlib inline\n",
    "gbm.varimp_plot()"
   ]
  },
  {
   "cell_type": "code",
   "execution_count": null,
   "id": "f5c33719",
   "metadata": {},
   "outputs": [],
   "source": [
    "# get partial importance plot\n",
    "gbm.partial_plot(train, cols = [\"CreditLimit\"], figsize = (5, 5))"
   ]
  },
  {
   "cell_type": "code",
   "execution_count": null,
   "id": "f0b8d6c4",
   "metadata": {},
   "outputs": [],
   "source": []
  }
 ],
 "metadata": {
  "kernelspec": {
   "display_name": "Python 3 (ipykernel)",
   "language": "python",
   "name": "python3"
  },
  "language_info": {
   "codemirror_mode": {
    "name": "ipython",
    "version": 3
   },
   "file_extension": ".py",
   "mimetype": "text/x-python",
   "name": "python",
   "nbconvert_exporter": "python",
   "pygments_lexer": "ipython3",
   "version": "3.8.13"
  }
 },
 "nbformat": 4,
 "nbformat_minor": 5
}
